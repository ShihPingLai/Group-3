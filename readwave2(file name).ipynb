{
 "cells": [
  {
   "cell_type": "code",
   "execution_count": null,
   "metadata": {},
   "outputs": [],
   "source": [
    "import wave\n",
    "import numpy as np\n",
    "import matplotlib.pyplot as plt\n",
    "\n",
    "\n",
    "f1= open(\"sound1.txt\",\"w\")\n",
    "f2= open(\"sound2.txt\",\"w\")\n",
    "f3= open(\"time.txt\",\"w\")\n",
    "def read_wav_data(filename):\n",
    "    wav = wave.open(filename,\"rb\") # 打开一个wav格式的声音文件流\n",
    "    num_frame = wav.getnframes() # 获取帧数\n",
    "    num_channel=wav.getnchannels() # 获取声道数\n",
    "    framerate=wav.getframerate() # 获取帧速率\n",
    "    num_sample_width=wav.getsampwidth() # 获取实例的比特宽度，即每一帧的字节数\n",
    "    str_data = wav.readframes(num_frame) # 读取全部的帧\n",
    "    wav.close() # 关闭流\n",
    "    wave_data = np.fromstring(str_data, dtype = np.short) # 将声音文件数据转换为数组矩阵形式\n",
    "    wave_data.shape = -1, num_channel # 按照声道数将数组整形，单声道时候是一列数组，双声道时候是两列的矩阵\n",
    "    wave_data = wave_data.T # 将矩阵转置\n",
    "    wave_data = wave_data \n",
    "    return wave_data, framerate\n",
    "\n",
    "\n",
    "def wav_show(wave_data, fs): # 显示出来声音波形\n",
    "    time = np.arange(0, len(wave_data)) * (1.0/fs)  # 计算声音的播放时间，单位为秒\n",
    "    # 画声音波形\n",
    "    plt.plot(time, wave_data)  \n",
    "    plt.show()\n",
    "\n",
    "a = input(\"File name\")\n",
    "b = a+\".wav\"\n",
    "if(__name__=='__main__'):\n",
    "\twave_data, fs = read_wav_data(b)  \n",
    "\twav_show(wave_data[0],fs)\n",
    "\twav_show(wave_data[1],fs)  # 如果是双声道则保留这一行，否则删掉这一行\n",
    "\ttime = np.arange(0, len(wave_data[0])) * (1.0/fs)\n",
    "\tfor i in range(len(wave_data[0])):\n",
    "\t\tf1.write(str(wave_data[0][i])+\"\\n\")\n",
    "\t\tf2.write(str(wave_data[1][i])+\"\\n\")\t\n",
    "\t\tf3.write(str(time[i])+\"\\n\")\n",
    "\n",
    "f1.close()\n",
    "f2.close()\n",
    "f3.close()"
   ]
  },
  {
   "cell_type": "code",
   "execution_count": null,
   "metadata": {
    "collapsed": true
   },
   "outputs": [],
   "source": []
  },
  {
   "cell_type": "code",
   "execution_count": null,
   "metadata": {
    "collapsed": true
   },
   "outputs": [],
   "source": []
  }
 ],
 "metadata": {
  "kernelspec": {
   "display_name": "Python 3",
   "language": "python",
   "name": "python3"
  },
  "language_info": {
   "codemirror_mode": {
    "name": "ipython",
    "version": 3
   },
   "file_extension": ".py",
   "mimetype": "text/x-python",
   "name": "python",
   "nbconvert_exporter": "python",
   "pygments_lexer": "ipython3",
   "version": "3.6.3"
  }
 },
 "nbformat": 4,
 "nbformat_minor": 2
}
